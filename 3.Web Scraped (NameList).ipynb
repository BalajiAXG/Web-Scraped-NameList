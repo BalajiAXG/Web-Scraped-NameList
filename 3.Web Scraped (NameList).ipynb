{
 "cells": [
  {
   "cell_type": "code",
   "execution_count": 0,
   "metadata": {
    "application/vnd.databricks.v1+cell": {
     "cellMetadata": {
      "byteLimit": 2048000,
      "rowLimit": 10000
     },
     "inputWidgets": {},
     "nuid": "7a4bfaf5-e516-4c6c-aa0e-7b64769b72b1",
     "showTitle": false,
     "title": ""
    }
   },
   "outputs": [],
   "source": [
    "# ! pip install beautifulsoup4\n",
    "from bs4 import BeautifulSoup\n",
    "from urllib.request import urlopen\n",
    "url = \"https://webscraper.io/test-sites/tables\"\n",
    "html_code= urlopen(url).read().decode()\n",
    "soup = BeautifulSoup(html_code,\"html.parser\")\n",
    "table = soup.find(\"table\")\n",
    "names_list = table.find_all('th')\n",
    "tables = [title.text.strip() for title in names_list]\n",
    "import pandas as pd\n",
    "df= pd.DataFrame(columns = tables)\n",
    "column_data = table.findAll('tr')\n",
    "for row in column_data[1:]:\n",
    "    row_data = row.find_all('td')\n",
    "    individual_row_data = [data.text.strip() for data in row_data]\n",
    "\n",
    "    length = len(df)\n",
    "    df.loc[length] = individual_row_data\n",
    "\n",
    "df.to_csv(\"NameList\",index = False)"
   ]
  },
  {
   "cell_type": "code",
   "execution_count": 0,
   "metadata": {
    "application/vnd.databricks.v1+cell": {
     "cellMetadata": {
      "byteLimit": 2048000,
      "rowLimit": 10000
     },
     "inputWidgets": {},
     "nuid": "b7b16a9f-596a-42f5-833f-59cf0d06c0e7",
     "showTitle": false,
     "title": ""
    }
   },
   "outputs": [
    {
     "output_type": "stream",
     "name": "stdout",
     "output_type": "stream",
     "text": [
      "Out[5]: [FileInfo(path='file:/databricks/driver/conf/', name='conf/', size=4096, modificationTime=1710926178381),\n FileInfo(path='file:/databricks/driver/preload_class.lst', name='preload_class.lst', size=1306936, modificationTime=1710926179741),\n FileInfo(path='file:/databricks/driver/azure/', name='azure/', size=4096, modificationTime=1710926179629),\n FileInfo(path='file:/databricks/driver/hadoop_accessed_config.lst', name='hadoop_accessed_config.lst', size=2755, modificationTime=1710926179661),\n FileInfo(path='file:/databricks/driver/ganglia/', name='ganglia/', size=4096, modificationTime=1710929703008),\n FileInfo(path='file:/databricks/driver/logs/', name='logs/', size=4096, modificationTime=1710929568104),\n FileInfo(path='file:/databricks/driver/eventlogs/', name='eventlogs/', size=4096, modificationTime=1710926432309),\n FileInfo(path='file:/databricks/driver/.cache', name='.cache', size=205, modificationTime=1710928862436),\n FileInfo(path='file:/databricks/driver/NameList', name='NameList', size=97, modificationTime=1710929941596),\n FileInfo(path='file:/databricks/driver/all_posts_info.csv', name='all_posts_info.csv', size=2181, modificationTime=1710926948189),\n FileInfo(path='file:/databricks/driver/metastore_db/', name='metastore_db/', size=4096, modificationTime=1710926774881)]"
     ]
    }
   ],
   "source": [
    "dbutils.fs.ls('file:/databricks/driver')"
   ]
  },
  {
   "cell_type": "code",
   "execution_count": 0,
   "metadata": {
    "application/vnd.databricks.v1+cell": {
     "cellMetadata": {
      "byteLimit": 2048000,
      "rowLimit": 10000
     },
     "inputWidgets": {},
     "nuid": "176d4338-6ea7-4f75-82bf-6fb707e98f96",
     "showTitle": false,
     "title": ""
    }
   },
   "outputs": [
    {
     "output_type": "stream",
     "name": "stdout",
     "output_type": "stream",
     "text": [
      "Out[6]: True"
     ]
    }
   ],
   "source": [
    "dbutils.fs.mv('file:/databricks/driver/NameList', '/NameList.csv', recurse=True)"
   ]
  },
  {
   "cell_type": "code",
   "execution_count": 0,
   "metadata": {
    "application/vnd.databricks.v1+cell": {
     "cellMetadata": {
      "byteLimit": 2048000,
      "rowLimit": 10000
     },
     "inputWidgets": {},
     "nuid": "66bec73f-494d-4d1d-b77b-3b780dc5e86b",
     "showTitle": false,
     "title": ""
    }
   },
   "outputs": [
    {
     "output_type": "display_data",
     "data": {
      "text/html": [
       "<style scoped>\n",
       "  .table-result-container {\n",
       "    max-height: 300px;\n",
       "    overflow: auto;\n",
       "  }\n",
       "  table, th, td {\n",
       "    border: 1px solid black;\n",
       "    border-collapse: collapse;\n",
       "  }\n",
       "  th, td {\n",
       "    padding: 5px;\n",
       "  }\n",
       "  th {\n",
       "    text-align: left;\n",
       "  }\n",
       "</style><div class='table-result-container'><table class='table-result'><thead style='background-color: white'><tr><th>_c0</th><th>_c1</th><th>_c2</th><th>_c3</th></tr></thead><tbody><tr><td>#</td><td>First Name</td><td>Last Name</td><td>Username</td></tr><tr><td>1</td><td>Mark</td><td>Otto</td><td>@mdo</td></tr><tr><td>2</td><td>Jacob</td><td>Thornton</td><td>@fat</td></tr><tr><td>3</td><td>Larry</td><td>the Bird</td><td>@twitter</td></tr></tbody></table></div>"
      ]
     },
     "metadata": {
      "application/vnd.databricks.v1+output": {
       "addedWidgets": {},
       "aggData": [],
       "aggError": "",
       "aggOverflow": false,
       "aggSchema": [],
       "aggSeriesLimitReached": false,
       "aggType": "",
       "arguments": {},
       "columnCustomDisplayInfos": {},
       "data": [
        [
         "#",
         "First Name",
         "Last Name",
         "Username"
        ],
        [
         "1",
         "Mark",
         "Otto",
         "@mdo"
        ],
        [
         "2",
         "Jacob",
         "Thornton",
         "@fat"
        ],
        [
         "3",
         "Larry",
         "the Bird",
         "@twitter"
        ]
       ],
       "datasetInfos": [],
       "dbfsResultPath": null,
       "isJsonSchema": true,
       "metadata": {},
       "overflow": false,
       "plotOptions": {
        "customPlotOptions": {},
        "displayType": "table",
        "pivotAggregation": null,
        "pivotColumns": null,
        "xColumns": null,
        "yColumns": null
       },
       "removedWidgets": [],
       "schema": [
        {
         "metadata": "{}",
         "name": "_c0",
         "type": "\"string\""
        },
        {
         "metadata": "{}",
         "name": "_c1",
         "type": "\"string\""
        },
        {
         "metadata": "{}",
         "name": "_c2",
         "type": "\"string\""
        },
        {
         "metadata": "{}",
         "name": "_c3",
         "type": "\"string\""
        }
       ],
       "type": "table"
      }
     },
     "output_type": "display_data"
    }
   ],
   "source": [
    "pp = spark.read.csv('/NameList.csv')\n",
    "display(pp)"
   ]
  },
  {
   "cell_type": "code",
   "execution_count": 0,
   "metadata": {
    "application/vnd.databricks.v1+cell": {
     "cellMetadata": {
      "byteLimit": 2048000,
      "rowLimit": 10000
     },
     "inputWidgets": {},
     "nuid": "aff96d33-4306-4156-a610-d177293b83d4",
     "showTitle": false,
     "title": ""
    }
   },
   "outputs": [
    {
     "output_type": "stream",
     "name": "stdout",
     "output_type": "stream",
     "text": [
      "Python interpreter will be restarted.\nRequirement already satisfied: snowflake in /local_disk0/.ephemeral_nfs/envs/pythonEnv-c0a21967-61b8-4b2f-a9bc-316fe1783e3e/lib/python3.9/site-packages (0.6.0)\nRequirement already satisfied: snowflake-core==0.6.0 in /local_disk0/.ephemeral_nfs/envs/pythonEnv-c0a21967-61b8-4b2f-a9bc-316fe1783e3e/lib/python3.9/site-packages (from snowflake) (0.6.0)\nRequirement already satisfied: snowflake-legacy in /local_disk0/.ephemeral_nfs/envs/pythonEnv-c0a21967-61b8-4b2f-a9bc-316fe1783e3e/lib/python3.9/site-packages (from snowflake) (0.5.0)\nRequirement already satisfied: python-dateutil>=2.8.2 in /databricks/python3/lib/python3.9/site-packages (from snowflake-core==0.6.0->snowflake) (2.8.2)\nRequirement already satisfied: pydantic>=1.10.7 in /local_disk0/.ephemeral_nfs/envs/pythonEnv-c0a21967-61b8-4b2f-a9bc-316fe1783e3e/lib/python3.9/site-packages (from snowflake-core==0.6.0->snowflake) (2.6.4)\nRequirement already satisfied: urllib3 in /databricks/python3/lib/python3.9/site-packages (from snowflake-core==0.6.0->snowflake) (1.26.9)\nRequirement already satisfied: snowflake-snowpark-python<2.0.0,>=1.5.0 in /local_disk0/.ephemeral_nfs/envs/pythonEnv-c0a21967-61b8-4b2f-a9bc-316fe1783e3e/lib/python3.9/site-packages (from snowflake-core==0.6.0->snowflake) (1.13.0)\nRequirement already satisfied: atpublic>=4 in /local_disk0/.ephemeral_nfs/envs/pythonEnv-c0a21967-61b8-4b2f-a9bc-316fe1783e3e/lib/python3.9/site-packages (from snowflake-core==0.6.0->snowflake) (4.0)\nRequirement already satisfied: annotated-types>=0.4.0 in /local_disk0/.ephemeral_nfs/envs/pythonEnv-c0a21967-61b8-4b2f-a9bc-316fe1783e3e/lib/python3.9/site-packages (from pydantic>=1.10.7->snowflake-core==0.6.0->snowflake) (0.6.0)\nRequirement already satisfied: typing-extensions>=4.6.1 in /local_disk0/.ephemeral_nfs/envs/pythonEnv-c0a21967-61b8-4b2f-a9bc-316fe1783e3e/lib/python3.9/site-packages (from pydantic>=1.10.7->snowflake-core==0.6.0->snowflake) (4.10.0)\nRequirement already satisfied: pydantic-core==2.16.3 in /local_disk0/.ephemeral_nfs/envs/pythonEnv-c0a21967-61b8-4b2f-a9bc-316fe1783e3e/lib/python3.9/site-packages (from pydantic>=1.10.7->snowflake-core==0.6.0->snowflake) (2.16.3)\nRequirement already satisfied: six>=1.5 in /databricks/python3/lib/python3.9/site-packages (from python-dateutil>=2.8.2->snowflake-core==0.6.0->snowflake) (1.16.0)\nRequirement already satisfied: wheel in /databricks/python3/lib/python3.9/site-packages (from snowflake-snowpark-python<2.0.0,>=1.5.0->snowflake-core==0.6.0->snowflake) (0.37.0)\nRequirement already satisfied: setuptools>=40.6.0 in /databricks/python3/lib/python3.9/site-packages (from snowflake-snowpark-python<2.0.0,>=1.5.0->snowflake-core==0.6.0->snowflake) (61.2.0)\nRequirement already satisfied: cloudpickle!=2.1.0,!=2.2.0,<=2.2.1,>=1.6.0 in /local_disk0/.ephemeral_nfs/envs/pythonEnv-c0a21967-61b8-4b2f-a9bc-316fe1783e3e/lib/python3.9/site-packages (from snowflake-snowpark-python<2.0.0,>=1.5.0->snowflake-core==0.6.0->snowflake) (2.2.1)\nRequirement already satisfied: snowflake-connector-python<4.0.0,>=3.6.0 in /local_disk0/.ephemeral_nfs/envs/pythonEnv-c0a21967-61b8-4b2f-a9bc-316fe1783e3e/lib/python3.9/site-packages (from snowflake-snowpark-python<2.0.0,>=1.5.0->snowflake-core==0.6.0->snowflake) (3.7.1)\nRequirement already satisfied: pyyaml in /local_disk0/.ephemeral_nfs/envs/pythonEnv-c0a21967-61b8-4b2f-a9bc-316fe1783e3e/lib/python3.9/site-packages (from snowflake-snowpark-python<2.0.0,>=1.5.0->snowflake-core==0.6.0->snowflake) (6.0.1)\nRequirement already satisfied: asn1crypto<2.0.0,>0.24.0 in /local_disk0/.ephemeral_nfs/envs/pythonEnv-c0a21967-61b8-4b2f-a9bc-316fe1783e3e/lib/python3.9/site-packages (from snowflake-connector-python<4.0.0,>=3.6.0->snowflake-snowpark-python<2.0.0,>=1.5.0->snowflake-core==0.6.0->snowflake) (1.5.1)\nRequirement already satisfied: pyjwt<3.0.0 in /local_disk0/.ephemeral_nfs/envs/pythonEnv-c0a21967-61b8-4b2f-a9bc-316fe1783e3e/lib/python3.9/site-packages (from snowflake-connector-python<4.0.0,>=3.6.0->snowflake-snowpark-python<2.0.0,>=1.5.0->snowflake-core==0.6.0->snowflake) (2.8.0)\nRequirement already satisfied: platformdirs<4.0.0,>=2.6.0 in /usr/local/lib/python3.9/dist-packages (from snowflake-connector-python<4.0.0,>=3.6.0->snowflake-snowpark-python<2.0.0,>=1.5.0->snowflake-core==0.6.0->snowflake) (2.6.2)\nRequirement already satisfied: pyOpenSSL<25.0.0,>=16.2.0 in /local_disk0/.ephemeral_nfs/envs/pythonEnv-c0a21967-61b8-4b2f-a9bc-316fe1783e3e/lib/python3.9/site-packages (from snowflake-connector-python<4.0.0,>=3.6.0->snowflake-snowpark-python<2.0.0,>=1.5.0->snowflake-core==0.6.0->snowflake) (24.1.0)\nRequirement already satisfied: filelock<4,>=3.5 in /usr/local/lib/python3.9/dist-packages (from snowflake-connector-python<4.0.0,>=3.6.0->snowflake-snowpark-python<2.0.0,>=1.5.0->snowflake-core==0.6.0->snowflake) (3.9.0)\nRequirement already satisfied: tomlkit in /local_disk0/.ephemeral_nfs/envs/pythonEnv-c0a21967-61b8-4b2f-a9bc-316fe1783e3e/lib/python3.9/site-packages (from snowflake-connector-python<4.0.0,>=3.6.0->snowflake-snowpark-python<2.0.0,>=1.5.0->snowflake-core==0.6.0->snowflake) (0.12.4)\nRequirement already satisfied: cryptography<43.0.0,>=3.1.0 in /local_disk0/.ephemeral_nfs/envs/pythonEnv-c0a21967-61b8-4b2f-a9bc-316fe1783e3e/lib/python3.9/site-packages (from snowflake-connector-python<4.0.0,>=3.6.0->snowflake-snowpark-python<2.0.0,>=1.5.0->snowflake-core==0.6.0->snowflake) (42.0.5)\nRequirement already satisfied: charset-normalizer<4,>=2 in /databricks/python3/lib/python3.9/site-packages (from snowflake-connector-python<4.0.0,>=3.6.0->snowflake-snowpark-python<2.0.0,>=1.5.0->snowflake-core==0.6.0->snowflake) (2.0.4)\nRequirement already satisfied: pytz in /databricks/python3/lib/python3.9/site-packages (from snowflake-connector-python<4.0.0,>=3.6.0->snowflake-snowpark-python<2.0.0,>=1.5.0->snowflake-core==0.6.0->snowflake) (2021.3)\nRequirement already satisfied: certifi>=2017.4.17 in /databricks/python3/lib/python3.9/site-packages (from snowflake-connector-python<4.0.0,>=3.6.0->snowflake-snowpark-python<2.0.0,>=1.5.0->snowflake-core==0.6.0->snowflake) (2021.10.8)\nRequirement already satisfied: idna<4,>=2.5 in /databricks/python3/lib/python3.9/site-packages (from snowflake-connector-python<4.0.0,>=3.6.0->snowflake-snowpark-python<2.0.0,>=1.5.0->snowflake-core==0.6.0->snowflake) (3.3)\nRequirement already satisfied: packaging in /databricks/python3/lib/python3.9/site-packages (from snowflake-connector-python<4.0.0,>=3.6.0->snowflake-snowpark-python<2.0.0,>=1.5.0->snowflake-core==0.6.0->snowflake) (21.3)\nRequirement already satisfied: cffi<2.0.0,>=1.9 in /databricks/python3/lib/python3.9/site-packages (from snowflake-connector-python<4.0.0,>=3.6.0->snowflake-snowpark-python<2.0.0,>=1.5.0->snowflake-core==0.6.0->snowflake) (1.15.0)\nRequirement already satisfied: sortedcontainers>=2.4.0 in /local_disk0/.ephemeral_nfs/envs/pythonEnv-c0a21967-61b8-4b2f-a9bc-316fe1783e3e/lib/python3.9/site-packages (from snowflake-connector-python<4.0.0,>=3.6.0->snowflake-snowpark-python<2.0.0,>=1.5.0->snowflake-core==0.6.0->snowflake) (2.4.0)\nRequirement already satisfied: requests<3.0.0 in /databricks/python3/lib/python3.9/site-packages (from snowflake-connector-python<4.0.0,>=3.6.0->snowflake-snowpark-python<2.0.0,>=1.5.0->snowflake-core==0.6.0->snowflake) (2.27.1)\nRequirement already satisfied: pycparser in /databricks/python3/lib/python3.9/site-packages (from cffi<2.0.0,>=1.9->snowflake-connector-python<4.0.0,>=3.6.0->snowflake-snowpark-python<2.0.0,>=1.5.0->snowflake-core==0.6.0->snowflake) (2.21)\nRequirement already satisfied: pyparsing!=3.0.5,>=2.0.2 in /databricks/python3/lib/python3.9/site-packages (from packaging->snowflake-connector-python<4.0.0,>=3.6.0->snowflake-snowpark-python<2.0.0,>=1.5.0->snowflake-core==0.6.0->snowflake) (3.0.4)\nPython interpreter will be restarted.\nPython interpreter will be restarted.\nRequirement already satisfied: snowflake-connector-python in /local_disk0/.ephemeral_nfs/envs/pythonEnv-c0a21967-61b8-4b2f-a9bc-316fe1783e3e/lib/python3.9/site-packages (3.7.1)\nRequirement already satisfied: asn1crypto<2.0.0,>0.24.0 in /local_disk0/.ephemeral_nfs/envs/pythonEnv-c0a21967-61b8-4b2f-a9bc-316fe1783e3e/lib/python3.9/site-packages (from snowflake-connector-python) (1.5.1)\nRequirement already satisfied: pyjwt<3.0.0 in /local_disk0/.ephemeral_nfs/envs/pythonEnv-c0a21967-61b8-4b2f-a9bc-316fe1783e3e/lib/python3.9/site-packages (from snowflake-connector-python) (2.8.0)\nRequirement already satisfied: platformdirs<4.0.0,>=2.6.0 in /usr/local/lib/python3.9/dist-packages (from snowflake-connector-python) (2.6.2)\nRequirement already satisfied: pyOpenSSL<25.0.0,>=16.2.0 in /local_disk0/.ephemeral_nfs/envs/pythonEnv-c0a21967-61b8-4b2f-a9bc-316fe1783e3e/lib/python3.9/site-packages (from snowflake-connector-python) (24.1.0)\nRequirement already satisfied: filelock<4,>=3.5 in /usr/local/lib/python3.9/dist-packages (from snowflake-connector-python) (3.9.0)\nRequirement already satisfied: tomlkit in /local_disk0/.ephemeral_nfs/envs/pythonEnv-c0a21967-61b8-4b2f-a9bc-316fe1783e3e/lib/python3.9/site-packages (from snowflake-connector-python) (0.12.4)\nRequirement already satisfied: cryptography<43.0.0,>=3.1.0 in /local_disk0/.ephemeral_nfs/envs/pythonEnv-c0a21967-61b8-4b2f-a9bc-316fe1783e3e/lib/python3.9/site-packages (from snowflake-connector-python) (42.0.5)\nRequirement already satisfied: charset-normalizer<4,>=2 in /databricks/python3/lib/python3.9/site-packages (from snowflake-connector-python) (2.0.4)\nRequirement already satisfied: pytz in /databricks/python3/lib/python3.9/site-packages (from snowflake-connector-python) (2021.3)\nRequirement already satisfied: certifi>=2017.4.17 in /databricks/python3/lib/python3.9/site-packages (from snowflake-connector-python) (2021.10.8)\nRequirement already satisfied: urllib3<2.0.0,>=1.21.1 in /databricks/python3/lib/python3.9/site-packages (from snowflake-connector-python) (1.26.9)\nRequirement already satisfied: idna<4,>=2.5 in /databricks/python3/lib/python3.9/site-packages (from snowflake-connector-python) (3.3)\nRequirement already satisfied: packaging in /databricks/python3/lib/python3.9/site-packages (from snowflake-connector-python) (21.3)\nRequirement already satisfied: typing-extensions<5,>=4.3 in /local_disk0/.ephemeral_nfs/envs/pythonEnv-c0a21967-61b8-4b2f-a9bc-316fe1783e3e/lib/python3.9/site-packages (from snowflake-connector-python) (4.10.0)\nRequirement already satisfied: cffi<2.0.0,>=1.9 in /databricks/python3/lib/python3.9/site-packages (from snowflake-connector-python) (1.15.0)\nRequirement already satisfied: sortedcontainers>=2.4.0 in /local_disk0/.ephemeral_nfs/envs/pythonEnv-c0a21967-61b8-4b2f-a9bc-316fe1783e3e/lib/python3.9/site-packages (from snowflake-connector-python) (2.4.0)\nRequirement already satisfied: requests<3.0.0 in /databricks/python3/lib/python3.9/site-packages (from snowflake-connector-python) (2.27.1)\nRequirement already satisfied: pycparser in /databricks/python3/lib/python3.9/site-packages (from cffi<2.0.0,>=1.9->snowflake-connector-python) (2.21)\nRequirement already satisfied: pyparsing!=3.0.5,>=2.0.2 in /databricks/python3/lib/python3.9/site-packages (from packaging->snowflake-connector-python) (3.0.4)\nPython interpreter will be restarted.\n"
     ]
    },
    {
     "output_type": "display_data",
     "data": {
      "application/vnd.databricks.v1+bamboolib_hint": "{\"pd.DataFrames\": [], \"version\": \"0.0.1\"}",
      "text/plain": []
     },
     "metadata": {},
     "output_type": "display_data"
    }
   ],
   "source": [
    "%pip install snowflake\n",
    "%pip install snowflake-connector-python\n",
    "\n",
    "import pandas as pd\n",
    "from pyspark.sql import SparkSession\n",
    "import snowflake.connector\n",
    "\n",
    "# Snowflake connection parameters\n",
    "account = 'My Account'\n",
    "user = 'My User Name'\n",
    "password = 'My Password'\n",
    "warehouse = 'My Warehouse Name'\n",
    "database = 'My Database Name'\n",
    "schema = 'My Schema Name'\n",
    "table_name = 'My Table Name'  # Table name without '.csv' suffix\n",
    "\n",
    "# Snowflake URL\n",
    "snowflake_url = ''\n",
    "\n",
    "# Load CSV into a Spark DataFrame\n",
    "# file_path = \"/games_table1.csv/part-00000-tid-7662509018983859286-e9725b8e-b65d-492e-a84f-bce0f1026892-129-1-c000.csv\"\n",
    "file_path = \"/NameList.csv\"\n",
    "spark = SparkSession.builder.appName(\"SnowflakeIntegration\").getOrCreate()\n",
    "df = spark.read.csv(file_path, header=True, inferSchema=True)\n",
    "\n",
    "# Snowflake connection\n",
    "conn = snowflake.connector.connect(\n",
    "    user=user,\n",
    "    password=password,\n",
    "    account=account,\n",
    "    warehouse=warehouse,\n",
    "    database=database,\n",
    "    schema=schema,\n",
    "    sfURL=snowflake_url  # Include Snowflake URL\n",
    ")\n",
    "\n",
    "# Create cursor\n",
    "cur = conn.cursor()\n",
    "\n",
    "# Replace spaces and dots in table name\n",
    "table_name_sanitized = table_name.replace(' ', '_').replace('.', '_')\n",
    "\n",
    "# Create table in Snowflake with dynamically generated column definitions\n",
    "column_definitions = ', '.join([f'\"{col}\" STRING' for col in df.columns])\n",
    "cur.execute(f'CREATE OR REPLACE TABLE \"{schema}\".\"{table_name_sanitized}\" ({column_definitions})')\n",
    "\n",
    "# Write DataFrame to Snowflake table\n",
    "df.write.format(\"snowflake\") \\\n",
    "    .option(\"sfURL\", snowflake_url) \\\n",
    "    .option(\"sfUser\", user) \\\n",
    "    .option(\"sfPassword\", password) \\\n",
    "    .option(\"sfDatabase\", database) \\\n",
    "    .option(\"sfSchema\", schema) \\\n",
    "    .option(\"sfWarehouse\", warehouse) \\\n",
    "    .option(\"dbtable\", table_name_sanitized) \\\n",
    "    .mode(\"overwrite\") \\\n",
    "    .save()\n",
    "\n",
    "# Commit the transaction\n",
    "conn.commit()\n",
    "\n",
    "# Close cursor and connection\n",
    "cur.close()\n",
    "conn.close()\n"
   ]
  }
 ],
 "metadata": {
  "application/vnd.databricks.v1+notebook": {
   "dashboards": [],
   "language": "python",
   "notebookMetadata": {
    "pythonIndentUnit": 4
   },
   "notebookName": "3.Web Scraped (NameList)",
   "widgets": {}
  }
 },
 "nbformat": 4,
 "nbformat_minor": 0
}
